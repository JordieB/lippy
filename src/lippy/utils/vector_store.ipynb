{
 "cells": [
  {
   "cell_type": "code",
   "execution_count": 3,
   "metadata": {},
   "outputs": [
    {
     "name": "stderr",
     "output_type": "stream",
     "text": [
      "<frozen importlib._bootstrap>:219: RuntimeWarning: numpy.ndarray size changed, may indicate binary incompatibility. Expected 80 from C header, got 96 from PyObject\n",
      "<frozen importlib._bootstrap>:219: RuntimeWarning: numpy.ufunc size changed, may indicate binary incompatibility. Expected 216 from C header, got 232 from PyObject\n",
      "<frozen importlib._bootstrap>:219: RuntimeWarning: numpy.ufunc size changed, may indicate binary incompatibility. Expected 216 from C header, got 232 from PyObject\n"
     ]
    }
   ],
   "source": [
    "from langchain.vectorstores import Chroma\n",
    "from langchain.embeddings import HuggingFaceInstructEmbeddings\n",
    "from langchain.text_splitter import RecursiveCharacterTextSplitter\n",
    "from langchain.chains import VectorDBQA\n",
    "# from langchain.document_loaders import TextLoader\n",
    "from langchain.document_loaders import UnstructuredMarkdownLoader\n",
    "from falcon_llm import FalconLLM\n"
   ]
  },
  {
   "cell_type": "code",
   "execution_count": 1,
   "metadata": {},
   "outputs": [],
   "source": [
    "\n",
    "data_path = \"/home/ubuntu/lippy/data/vault/2 - Notes\"\n",
    "db_path = \"/home/ubuntu/lippy/data/db/chroma\"\n",
    "tst_file_path = data_path + \"/WQM 1019 - Basic Water Quality Analysis.md\""
   ]
  },
  {
   "cell_type": "code",
   "execution_count": 3,
   "metadata": {},
   "outputs": [],
   "source": [
    "# with open(data_path + \"/WQM 1019 - Basic Water Quality Analysis.md\", \"r\") as f:\n",
    "#     text = f.read()"
   ]
  },
  {
   "cell_type": "code",
   "execution_count": 10,
   "metadata": {},
   "outputs": [],
   "source": [
    "# loader = TextLoader(data_path + \"/WQM 1019 - Basic Water Quality Analysis.md\")\n",
    "loader = UnstructuredMarkdownLoader(tst_file_path)\n",
    "doc = loader.load()"
   ]
  },
  {
   "cell_type": "code",
   "execution_count": 11,
   "metadata": {},
   "outputs": [
    {
     "data": {
      "text/plain": [
       "[Document(page_content='Personal/Education/PikesPeak/WQM1019 #WaterQuality\\n\\nIndependent study course\\n\\nI. Instructor\\n\\nCharlie Edgar\\ncharles.edgar@pikespeak.edu\\n719 492-3245\\nprefer texts\\n\\n\\nGoes by Charlie\\n20 years in Waste Management industry\\n\\nII. Resources\\n\\ni. Class\\n\\nD2L\\nQuizzes\\nContent\\n\\nZoom\\n\\nii. Books\\n\\nWater distribution Systems\\n\\nBasic Environmental Technology (6th ed) by Jerry A Nathanson. \\nIntro to waste water management textbook\\nAsk Charlie for link to e-version\\n\\nIIII. Scheduling\\n\\ni. Meetings\\n\\n1st - Jan 24, 2023\\n- Zoom\\n- Intro\\n- Accelerated course stretched into a full semester\\n\\nii. Tests\\n\\n| Exam/Quiz         | Readings | Due    |\\n| ----------------- | -------- | ------ |\\n| Q1                | 1-1c     | Feb 13 |\\n| Q2                | 2-4      | Feb 17 |\\n| Water Exam 1      | 1-6      | Mar 13 | \\n| Q3                | 7-8      | Mar 27 |\\n| Q4                | 9-11     | Apr 17 |\\n| Wastewater Exam 2 | 7-11     | May 5  |\\n\\niii. Readings\\n\\n[[WQM 1019 - R - Water Lab Equipment & Sampling Basics|1 - Water Lab Equipment & Sampling Basics]]\\n[[WQM 1019 - R - Water Lab Safety |1b - Water Lab Safety]]\\n[[WQM 1019 - R - Water Treatment Plants & SDWA|1c - Water Treatment Plants & SDWA]]\\n[[WQM 1019 - R - pH, Alkalinity, Conductivity|2 - pH Alkalinity Conductivity]]\\n[[WQM 1019 - R - DO Temp Cl2 Residual Hybrid|3 - DO Temp Cl2 Residual Hybrid]]\\n[[WQM 1019 - R - Turbidity & TDS|4 - Turbidity & TDS]]\\n[[WQM 1019 - R - Color, Taste, Odor, Langeliers|5 - Color Taste Odor Langeliers]]\\n[[WQM 1019 - R - Total Coliform Jar Testing|6 - Total Coliform Jar Testing]]\\n[[WQM 1019 - R - Activated Sludge Plants & NPDES|7 - Activated Sludge Plants & NPDES]]\\n[[WQM 1019 - R - Sampling Basics & Lab Equipment for Wastewater|8 - Sampling Basics & Lab Equipment for Wastewater]]\\n[[WQM 1019 - R - Solids & MLSS & TSS|9 - Solids & MLSS & TSS]]\\n[[WQM 1019 - R - Nutrients, Data Reporting, and Monitoring|10 - Nutrients, Data Reporting, and Monitoring]]\\n[[WQM 1019 - R - DO, Temp, Micros, pH, Turbidity|11 - DO, Temp, Micros, pH, Turbidity]]', metadata={'source': '/home/ubuntu/lippy/data/vault/2 - Notes/WQM 1019 - Basic Water Quality Analysis.md'})]"
      ]
     },
     "execution_count": 11,
     "metadata": {},
     "output_type": "execute_result"
    }
   ],
   "source": [
    "doc"
   ]
  },
  {
   "cell_type": "code",
   "execution_count": 5,
   "metadata": {},
   "outputs": [],
   "source": [
    "textSplitter = RecursiveCharacterTextSplitter(chunk_size=1000, chunk_overlap=0)\n",
    "texts = textSplitter.split_documents(doc)"
   ]
  },
  {
   "cell_type": "code",
   "execution_count": 6,
   "metadata": {},
   "outputs": [
    {
     "data": {
      "text/plain": [
       "[Document(page_content='#Personal/Education/PikesPeak/WQM1019 #WaterQuality\\nIndependent study course\\n# I. Instructor\\n- Charlie Edgar\\n\\t- charles.edgar@pikespeak.edu\\n\\t- 719 492-3245\\n\\t\\t- prefer texts\\n\\t- Goes by Charlie\\n\\t- 20 years in Waste Management industry\\n# II. Resources\\n## i. Class\\n- [D2L](https://mycourses.cccs.edu/d2l/home/188246)\\n\\t- [Quizzes](https://mycourses.cccs.edu/d2l/lms/quizzing/user/quizzes_list.d2l?ou=188246)\\n\\t- [Content](https://mycourses.cccs.edu/d2l/le/content/188246/Home)\\n- [Zoom](https://cccs-edu.zoom.us/j/86989222744?pwd=UGNEZmpybEtRS0NnazdZUXhKSU1MZz09)\\n## ii. Books\\n- Water distribution Systems\\n- Basic Environmental Technology (6th ed) by Jerry A Nathanson. \\n\\t- Intro to waste water management textbook\\n\\t- Ask Charlie for link to e-version\\n\\n# IIII. Scheduling\\n## i. Meetings\\n1st - Jan 24, 2023\\n- Zoom\\n- Intro\\n- Accelerated course stretched into a full semester', metadata={'source': '/home/ubuntu/lippy/data/vault/2 - Notes/WQM 1019 - Basic Water Quality Analysis.md'}),\n",
       " Document(page_content='## ii. Tests\\n| Exam/Quiz         | Readings | Due    |\\n| ----------------- | -------- | ------ |\\n| Q1                | 1-1c     | Feb 13 |\\n| Q2                | 2-4      | Feb 17 |\\n| Water Exam 1      | 1-6      | Mar 13 | \\n| Q3                | 7-8      | Mar 27 |\\n| Q4                | 9-11     | Apr 17 |\\n| Wastewater Exam 2 | 7-11     | May 5  |', metadata={'source': '/home/ubuntu/lippy/data/vault/2 - Notes/WQM 1019 - Basic Water Quality Analysis.md'}),\n",
       " Document(page_content='## iii. Readings\\n[[WQM 1019 - R - Water Lab Equipment & Sampling Basics|1 - Water Lab Equipment & Sampling Basics]]\\n[[WQM 1019 - R - Water Lab Safety |1b - Water Lab Safety]]\\n[[WQM 1019 - R - Water Treatment Plants & SDWA|1c - Water Treatment Plants & SDWA]]\\n[[WQM 1019 - R - pH, Alkalinity, Conductivity|2 - pH Alkalinity Conductivity]]\\n[[WQM 1019 - R - DO Temp Cl2 Residual Hybrid|3 - DO Temp Cl2 Residual Hybrid]]\\n[[WQM 1019 - R - Turbidity & TDS|4 - Turbidity & TDS]]\\n[[WQM 1019 - R - Color, Taste, Odor, Langeliers|5 - Color Taste Odor Langeliers]]\\n[[WQM 1019 - R - Total Coliform Jar Testing|6 - Total Coliform Jar Testing]]\\n[[WQM 1019 - R - Activated Sludge Plants & NPDES|7 - Activated Sludge Plants & NPDES]]\\n[[WQM 1019 - R - Sampling Basics & Lab Equipment for Wastewater|8 - Sampling Basics & Lab Equipment for Wastewater]]\\n[[WQM 1019 - R - Solids & MLSS & TSS|9 - Solids & MLSS & TSS]]', metadata={'source': '/home/ubuntu/lippy/data/vault/2 - Notes/WQM 1019 - Basic Water Quality Analysis.md'}),\n",
       " Document(page_content='[[WQM 1019 - R - Nutrients, Data Reporting, and Monitoring|10 - Nutrients, Data Reporting, and Monitoring]]\\n[[WQM 1019 - R - DO, Temp, Micros, pH, Turbidity|11 - DO, Temp, Micros, pH, Turbidity]]', metadata={'source': '/home/ubuntu/lippy/data/vault/2 - Notes/WQM 1019 - Basic Water Quality Analysis.md'})]"
      ]
     },
     "execution_count": 6,
     "metadata": {},
     "output_type": "execute_result"
    }
   ],
   "source": [
    "texts"
   ]
  },
  {
   "cell_type": "code",
   "execution_count": 7,
   "metadata": {},
   "outputs": [
    {
     "name": "stdout",
     "output_type": "stream",
     "text": [
      "load INSTRUCTOR_Transformer\n",
      "max_seq_length  512\n"
     ]
    }
   ],
   "source": [
    "embedding = HuggingFaceInstructEmbeddings()\n",
    "vectordb = Chroma.from_documents(documents=texts, embedding=embedding, persist_directory=db_path)"
   ]
  },
  {
   "cell_type": "code",
   "execution_count": 8,
   "metadata": {},
   "outputs": [],
   "source": [
    "vectordb.persist()"
   ]
  },
  {
   "cell_type": "code",
   "execution_count": null,
   "metadata": {},
   "outputs": [],
   "source": []
  }
 ],
 "metadata": {
  "kernelspec": {
   "display_name": "Python 3",
   "language": "python",
   "name": "python3"
  },
  "language_info": {
   "codemirror_mode": {
    "name": "ipython",
    "version": 3
   },
   "file_extension": ".py",
   "mimetype": "text/x-python",
   "name": "python",
   "nbconvert_exporter": "python",
   "pygments_lexer": "ipython3",
   "version": "3.8.10"
  }
 },
 "nbformat": 4,
 "nbformat_minor": 2
}
