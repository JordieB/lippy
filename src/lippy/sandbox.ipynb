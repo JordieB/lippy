{
 "cells": [
  {
   "cell_type": "code",
   "execution_count": 6,
   "id": "472694d5-170c-4813-92c8-39c3df1927c1",
   "metadata": {},
   "outputs": [],
   "source": [
    "from lippy.utils.falcon_llm import FalconLLM"
   ]
  },
  {
   "cell_type": "code",
   "execution_count": 7,
   "id": "93bfaf6e-b92a-4c67-8d70-7bb02152a3b6",
   "metadata": {
    "collapsed": true,
    "jupyter": {
     "outputs_hidden": true
    }
   },
   "outputs": [
    {
     "data": {
      "application/vnd.jupyter.widget-view+json": {
       "model_id": "2892308d3fc84df69ebca0b8b5167b5d",
       "version_major": 2,
       "version_minor": 0
      },
      "text/plain": [
       "Loading checkpoint shards:   0%|          | 0/2 [00:00<?, ?it/s]"
      ]
     },
     "metadata": {},
     "output_type": "display_data"
    },
    {
     "name": "stderr",
     "output_type": "stream",
     "text": [
      "The model 'RWForCausalLM' is not supported for text-generation. Supported models are ['BartForCausalLM', 'BertLMHeadModel', 'BertGenerationDecoder', 'BigBirdForCausalLM', 'BigBirdPegasusForCausalLM', 'BioGptForCausalLM', 'BlenderbotForCausalLM', 'BlenderbotSmallForCausalLM', 'BloomForCausalLM', 'CamembertForCausalLM', 'CodeGenForCausalLM', 'CpmAntForCausalLM', 'CTRLLMHeadModel', 'Data2VecTextForCausalLM', 'ElectraForCausalLM', 'ErnieForCausalLM', 'GitForCausalLM', 'GPT2LMHeadModel', 'GPT2LMHeadModel', 'GPTBigCodeForCausalLM', 'GPTNeoForCausalLM', 'GPTNeoXForCausalLM', 'GPTNeoXJapaneseForCausalLM', 'GPTJForCausalLM', 'LlamaForCausalLM', 'MarianForCausalLM', 'MBartForCausalLM', 'MegaForCausalLM', 'MegatronBertForCausalLM', 'MvpForCausalLM', 'OpenLlamaForCausalLM', 'OpenAIGPTLMHeadModel', 'OPTForCausalLM', 'PegasusForCausalLM', 'PLBartForCausalLM', 'ProphetNetForCausalLM', 'QDQBertLMHeadModel', 'ReformerModelWithLMHead', 'RemBertForCausalLM', 'RobertaForCausalLM', 'RobertaPreLayerNormForCausalLM', 'RoCBertForCausalLM', 'RoFormerForCausalLM', 'RwkvForCausalLM', 'Speech2Text2ForCausalLM', 'TransfoXLLMHeadModel', 'TrOCRForCausalLM', 'XGLMForCausalLM', 'XLMWithLMHeadModel', 'XLMProphetNetForCausalLM', 'XLMRobertaForCausalLM', 'XLMRobertaXLForCausalLM', 'XLNetLMHeadModel', 'XmodForCausalLM'].\n"
     ]
    },
    {
     "name": "stdout",
     "output_type": "stream",
     "text": [
      "load INSTRUCTOR_Transformer\n",
      "max_seq_length  512\n"
     ]
    },
    {
     "name": "stderr",
     "output_type": "stream",
     "text": [
      "Using cache found in /home/ubuntu/.cache/torch/hub/snakers4_silero-models_master\n",
      "Using cache found in /home/ubuntu/.cache/torch/hub/snakers4_silero-models_master\n"
     ]
    }
   ],
   "source": [
    "llm = FalconLLM()"
   ]
  },
  {
   "cell_type": "code",
   "execution_count": 14,
   "id": "ef0af429-9a37-46e5-b45b-ae194042ce0e",
   "metadata": {
    "collapsed": true,
    "jupyter": {
     "outputs_hidden": true
    }
   },
   "outputs": [
    {
     "name": "stderr",
     "output_type": "stream",
     "text": [
      "Setting `pad_token_id` to `eos_token_id`:11 for open-end generation.\n"
     ]
    },
    {
     "name": "stdout",
     "output_type": "stream",
     "text": [
      "tensor([ 2.6830e-03,  2.9484e-03,  2.8758e-03,  ...,  3.2355e-05,\n",
      "         4.5989e-05, -4.6261e-05])\n",
      "Saving output.wav to /home/ubuntu/Tehas/lippy/data/audio\n"
     ]
    }
   ],
   "source": [
    "answer = llm.endpoint.run(\"Write a 4 paragraph description of gas chromography.\")"
   ]
  },
  {
   "cell_type": "code",
   "execution_count": 15,
   "id": "7f6d90bb-514b-444a-8107-5a9afda3deb8",
   "metadata": {},
   "outputs": [
    {
     "name": "stdout",
     "output_type": "stream",
     "text": [
      "Use the following pieces of context to answer the question at the end. If you don't know the answer, just say that you don't know, don't try to make up an answer.\n",
      "\n",
      "In conclusion, gas chromatography is a powerful analytical technique that is widely used in many fields, including environmental science and wastewater management. By separating and detecting the components of a mixture, gas chromatography allows scientists to identify and quantify trace amounts of organic compounds in a sample. This information can be used to monitor environmental pollution and take steps to mitigate its effects.\n",
      "\n",
      "Related\n",
      "\n",
      "I. Skills\n",
      "\n",
      "// UNDER CONSTRUCTION \n",
      "// Dataviewjs query [[Workspace - Project Scoring system - JS]]\n",
      "\n",
      "II. Workspaces\n",
      "\n",
      "// UNDER CONSTRUCTION \n",
      "// Dataviewjs query [[Workspace - Project Scoring system - JS]]\n",
      "\n",
      "III. Formating\n",
      "\n",
      "'1. H1\n",
      "    I. H2\n",
      "        A. H3\n",
      "            i. H4\n",
      "                a. H5\n",
      "                    -H6\n",
      "\n",
      "In conclusion, gas chromatography is a powerful analytical technique that is widely used in many fields, including environmental science and wastewater management. By separating and detecting the components of a mixture, gas chromatography allows scientists to identify and quantify trace amounts of organic compounds in a sample. This information can be used to monitor environmental pollution and take steps to mitigate its effects.\n",
      "\n",
      "Related\n",
      "\n",
      "I. Skills\n",
      "\n",
      "// UNDER CONSTRUCTION \n",
      "// Dataviewjs query [[Workspace - Project Scoring system - JS]]\n",
      "\n",
      "II. Workspaces\n",
      "\n",
      "// UNDER CONSTRUCTION \n",
      "// Dataviewjs query [[Workspace - Project Scoring system - JS]]\n",
      "\n",
      "III. Formating\n",
      "\n",
      "'1. H1\n",
      "    I. H2\n",
      "        A. H3\n",
      "            i. H4\n",
      "                a. H5\n",
      "                    -H6\n",
      "\n",
      "Question: Write a 4 paragraph description of gas chromography.\n",
      "Helpful Answer:\n",
      "- Gas chromatography is a technique used to separate and identify the components of a mixture, based on their chemical and physical characteristics.\n",
      "- This information can be used to analyze the quality of various substances such as air, water, and soil.\n",
      "- Gas chromatography is commonly used in fields such as environmental science and wastewater management, where it allows for accurate monitoring and detection of organic compounds, which could pose a threat to the surrounding environment if left untreated.\n",
      "- Related to Environmental Sciences, 4 paragraphs.\n"
     ]
    }
   ],
   "source": [
    "print(answer)"
   ]
  },
  {
   "cell_type": "code",
   "execution_count": 16,
   "id": "803b1359-6256-48e8-990c-e84f8c6968bf",
   "metadata": {},
   "outputs": [
    {
     "data": {
      "text/plain": [
       "563"
      ]
     },
     "execution_count": 16,
     "metadata": {},
     "output_type": "execute_result"
    }
   ],
   "source": [
    "len(\"\"\"\n",
    "- Gas chromatography is a technique used to separate and identify the components of a mixture, based on their chemical and physical characteristics.\n",
    "- This information can be used to analyze the quality of various substances such as air, water, and soil.\n",
    "- Gas chromatography is commonly used in fields such as environmental science and wastewater management, where it allows for accurate monitoring and detection of organic compounds, which could pose a threat to the surrounding environment if left untreated.\n",
    "- Related to Environmental Sciences, 4 paragraphs.\"\"\")"
   ]
  },
  {
   "cell_type": "code",
   "execution_count": null,
   "id": "bdfe4444-f115-4c37-81c8-15029bdde50d",
   "metadata": {},
   "outputs": [],
   "source": []
  }
 ],
 "metadata": {
  "kernelspec": {
   "display_name": "Python 3",
   "language": "python",
   "name": "python3"
  },
  "language_info": {
   "codemirror_mode": {
    "name": "ipython",
    "version": 3
   },
   "file_extension": ".py",
   "mimetype": "text/x-python",
   "name": "python",
   "nbconvert_exporter": "python",
   "pygments_lexer": "ipython3",
   "version": "3.8.10"
  }
 },
 "nbformat": 4,
 "nbformat_minor": 5
}
