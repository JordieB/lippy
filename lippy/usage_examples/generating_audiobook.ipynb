{
 "cells": [
  {
   "cell_type": "markdown",
   "metadata": {},
   "source": [
    "Need:\n",
    "* ipykernel\n",
    "* beautifulsoup4\n",
    "* numpy\n",
    "* nltk\n",
    "    * via `pip`\n",
    "    * `python -m nltk.downloader popular`"
   ]
  },
  {
   "cell_type": "code",
   "execution_count": 3,
   "metadata": {},
   "outputs": [
    {
     "name": "stderr",
     "output_type": "stream",
     "text": [
      "'$PWD.Path' is not recognized as an internal or external command,\n",
      "operable program or batch file.\n"
     ]
    },
    {
     "ename": "",
     "evalue": "",
     "output_type": "error",
     "traceback": [
      "\u001b[1;31mThe Kernel crashed while executing code in the the current cell or a previous cell. Please review the code in the cell(s) to identify a possible cause of the failure. Click <a href='https://aka.ms/vscodeJupyterKernelCrash'>here</a> for more info. View Jupyter <a href='command:jupyter.viewOutput'>log</a> for further details."
     ]
    }
   ],
   "source": [
    "!$PWD.Path"
   ]
  },
  {
   "cell_type": "code",
   "execution_count": null,
   "metadata": {},
   "outputs": [],
   "source": [
    "%env PYTHONPATH=\"$($PWD.Path)\\..\\..\\;$env:PYTHONPATH\""
   ]
  },
  {
   "cell_type": "code",
   "execution_count": 1,
   "metadata": {},
   "outputs": [
    {
     "ename": "ModuleNotFoundError",
     "evalue": "No module named 'lippy'",
     "output_type": "error",
     "traceback": [
      "\u001b[1;31m---------------------------------------------------------------------------\u001b[0m",
      "\u001b[1;31mModuleNotFoundError\u001b[0m                       Traceback (most recent call last)",
      "\u001b[1;32mc:\\Users\\jordi\\projects\\lippy\\lippy\\usage_examples\\generating_audiobook.ipynb Cell 2\u001b[0m line \u001b[0;36m6\n\u001b[0;32m      <a href='vscode-notebook-cell:/c%3A/Users/jordi/projects/lippy/lippy/usage_examples/generating_audiobook.ipynb#W1sZmlsZQ%3D%3D?line=3'>4</a>\u001b[0m \u001b[39mfrom\u001b[39;00m \u001b[39mIPython\u001b[39;00m\u001b[39m.\u001b[39;00m\u001b[39mdisplay\u001b[39;00m \u001b[39mimport\u001b[39;00m Audio\n\u001b[0;32m      <a href='vscode-notebook-cell:/c%3A/Users/jordi/projects/lippy/lippy/usage_examples/generating_audiobook.ipynb#W1sZmlsZQ%3D%3D?line=4'>5</a>\u001b[0m \u001b[39mfrom\u001b[39;00m \u001b[39mpathlib\u001b[39;00m \u001b[39mimport\u001b[39;00m Path\n\u001b[1;32m----> <a href='vscode-notebook-cell:/c%3A/Users/jordi/projects/lippy/lippy/usage_examples/generating_audiobook.ipynb#W1sZmlsZQ%3D%3D?line=5'>6</a>\u001b[0m \u001b[39mfrom\u001b[39;00m \u001b[39mlippy\u001b[39;00m\u001b[39m.\u001b[39;00m\u001b[39mutils\u001b[39;00m\u001b[39m.\u001b[39;00m\u001b[39mspeaker\u001b[39;00m \u001b[39mimport\u001b[39;00m Speaker\n",
      "\u001b[1;31mModuleNotFoundError\u001b[0m: No module named 'lippy'"
     ]
    }
   ],
   "source": [
    "from bs4 import BeautifulSoup\n",
    "from nltk import sent_tokenize\n",
    "import numpy as numpy\n",
    "from IPython.display import Audio\n",
    "from pathlib import Path\n",
    "from lippy.utils.speaker import Speaker"
   ]
  },
  {
   "cell_type": "code",
   "execution_count": null,
   "metadata": {},
   "outputs": [],
   "source": [
    "from .."
   ]
  },
  {
   "cell_type": "markdown",
   "metadata": {},
   "source": [
    "## For .epub"
   ]
  },
  {
   "cell_type": "code",
   "execution_count": 3,
   "metadata": {},
   "outputs": [],
   "source": [
    "# from ebooklib import epub, ITEM_DOCUMENT\n",
    "\n",
    "# PROJ_DIR = Path(__file__).resolve().parents[2]\n",
    "# pathLib = PROJ_DIR / Path(\"data/books/\")\n",
    "# bookName = \"Vagabonding - Rolf Potts\"\n",
    "# pathBook = pathLib / Path(bookName + \".epub\")\n",
    "# GEN_TEMP = 0.6\n",
    "# book = epub.read_epub(str(pathBook))\n",
    "# items = list(book.get_items_of_type(ITEM_DOCUMENT))\n",
    "# collection = []\n",
    "# speaker = Speaker()\n",
    "# for i, item in enumerate(items[7:]):\n",
    "#     soup = BeautifulSoup(item.get_body_content(), 'html.parser')\n",
    "#     text = [para.get_text() for para in soup.find_all('p')]\n",
    "#     text = ' '.join(text)\n",
    "#     if len(text) == 0:\n",
    "#         continue\n",
    "#     fn =  f\"Vagabond_{i}\"\n",
    "#     speaker.say(text, fn)\n",
    "#     collection.append(text)\n",
    "#     print(text)"
   ]
  },
  {
   "cell_type": "markdown",
   "metadata": {},
   "source": [
    "## For .txt"
   ]
  },
  {
   "cell_type": "markdown",
   "metadata": {},
   "source": []
  }
 ],
 "metadata": {
  "kernelspec": {
   "display_name": "lippy-UYbCQM0t-py3.10",
   "language": "python",
   "name": "python3"
  },
  "language_info": {
   "codemirror_mode": {
    "name": "ipython",
    "version": 3
   },
   "file_extension": ".py",
   "mimetype": "text/x-python",
   "name": "python",
   "nbconvert_exporter": "python",
   "pygments_lexer": "ipython3",
   "version": "3.10.11"
  }
 },
 "nbformat": 4,
 "nbformat_minor": 2
}
